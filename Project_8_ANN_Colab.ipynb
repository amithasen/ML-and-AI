{
  "nbformat": 4,
  "nbformat_minor": 0,
  "metadata": {
    "colab": {
      "name": "Project 8 ANN.ipynb",
      "provenance": []
    },
    "kernelspec": {
      "name": "python3",
      "display_name": "Python 3"
    },
    "accelerator": "GPU"
  },
  "cells": [
    {
      "cell_type": "code",
      "metadata": {
        "id": "wqn4kp-bfJty",
        "colab_type": "code",
        "colab": {}
      },
      "source": [
        "## Project Objectives\n",
        "# The objective of the project is to learn how to implement a simple image classification pipeline based on the k-Nearest Neighbour and a deep neural network. The goals of this assignment are as follows:      \n",
        "# ● Understand the basic Image Classification pipeline and the data-driven approach (train/predict stages)  \n",
        "# ● Data fetching and understand the train/val/test splits.  \n",
        "# ● Implement and apply an optimal k-Nearest Neighbor (kNN) classifier (7.5 points) \n",
        "# ● Print the classification metric report (2.5 points) \n",
        "# ● Implement and apply a deep neural network classifier including (feedforward  neural network, RELU activations) (5 points) \n",
        "# ● Understand and be able to implement (vectorized) backpropagation (cost stochastic gradient descent, cross entropy loss, cost functions) (2.5 points) \n",
        "# ● Implement batch normalization for training the neural network (2.5 points) \n",
        "# ● Understand the differences and trade-offs between traditional and NN classifiers with the help of classification metrics (5 points)"
      ],
      "execution_count": 0,
      "outputs": []
    },
    {
      "cell_type": "code",
      "metadata": {
        "id": "0JL_2v4Df5iD",
        "colab_type": "code",
        "outputId": "344fbdde-1f92-4f0c-f6b7-d83c54ea6353",
        "colab": {
          "base_uri": "https://localhost:8080/",
          "height": 122
        }
      },
      "source": [
        "## Importing the required libraries..\n",
        "\n",
        "from tensorflow.keras.datasets import mnist\n",
        "from tensorflow.keras.models import Sequential\n",
        "from tensorflow.keras.layers import Dense, Dropout\n",
        "import h5py\n",
        "import numpy as np\n",
        "\n",
        "from google.colab import drive\n",
        "drive.mount('/content/drive')\n",
        "\n",
        "dataFromFile = h5py.File('/content/drive/My Drive/SVHN_single_grey1.h5', 'r')\n",
        "\n",
        "X_train = dataFromFile['X_train']\n",
        "X_train_original = dataFromFile['X_train']\n",
        "X_test = dataFromFile['X_test']\n",
        "y_test = dataFromFile['y_test']\n",
        "y_train = dataFromFile['y_train']\n",
        "    \n",
        "X_train = X_train[:].reshape(-1, 1024) /255\n",
        "X_test = X_test[:].reshape(-1, 1024) /255"
      ],
      "execution_count": 2,
      "outputs": [
        {
          "output_type": "stream",
          "text": [
            "Go to this URL in a browser: https://accounts.google.com/o/oauth2/auth?client_id=947318989803-6bn6qk8qdgf4n4g3pfee6491hc0brc4i.apps.googleusercontent.com&redirect_uri=urn%3Aietf%3Awg%3Aoauth%3A2.0%3Aoob&scope=email%20https%3A%2F%2Fwww.googleapis.com%2Fauth%2Fdocs.test%20https%3A%2F%2Fwww.googleapis.com%2Fauth%2Fdrive%20https%3A%2F%2Fwww.googleapis.com%2Fauth%2Fdrive.photos.readonly%20https%3A%2F%2Fwww.googleapis.com%2Fauth%2Fpeopleapi.readonly&response_type=code\n",
            "\n",
            "Enter your authorization code:\n",
            "··········\n",
            "Mounted at /content/drive\n"
          ],
          "name": "stdout"
        }
      ]
    },
    {
      "cell_type": "code",
      "metadata": {
        "id": "lraLkTsRghdm",
        "colab_type": "code",
        "outputId": "fef0432f-35dd-4343-d568-220115b35fcb",
        "colab": {
          "base_uri": "https://localhost:8080/",
          "height": 115
        }
      },
      "source": [
        "# visualizing the first 10 images in the dataset and their labels\n",
        "%matplotlib inline\n",
        "import matplotlib.pyplot as plt\n",
        "plt.figure(figsize=(10, 1))\n",
        "for i in range(10):\n",
        "    plt.subplot(1, 10, i+1)\n",
        "    plt.imshow(X_train_original[i], cmap=\"gray\")\n",
        "    plt.axis('off')\n",
        "plt.show()\n",
        "print('label for each of the above image: %s' % (y_train[0:10]))"
      ],
      "execution_count": 3,
      "outputs": [
        {
          "output_type": "display_data",
          "data": {
            "image/png": "[encoded data removed]",
            "text/plain": [
              "<Figure size 720x72 with 10 Axes>"
            ]
          },
          "metadata": {
            "tags": []
          }
        },
        {
          "output_type": "stream",
          "text": [
            "label for each of the above image: [2 6 7 4 4 0 3 0 7 3]\n"
          ],
          "name": "stdout"
        }
      ]
    },
    {
      "cell_type": "code",
      "metadata": {
        "id": "g5HXPr93qglV",
        "colab_type": "code",
        "colab": {}
      },
      "source": [
        "# Flatenning the data..\n",
        "X_train_sub = X_train[:3000]\n",
        "y_train_sub = y_train[:3000]\n",
        "X_test_sub = X_test[:2000]\n",
        "y_test_sub = y_test[:2000]"
      ],
      "execution_count": 0,
      "outputs": []
    },
    {
      "cell_type": "code",
      "metadata": {
        "id": "IFULwEzkqqbJ",
        "colab_type": "code",
        "outputId": "deb80d76-2ad3-4d46-b266-f17f9ab0e3fe",
        "colab": {
          "base_uri": "https://localhost:8080/",
          "height": 510
        }
      },
      "source": [
        "from sklearn.neighbors import KNeighborsClassifier\n",
        "\n",
        "# # train & test KNN classifier\n",
        "for k in range(1,30):\n",
        "    knnClassifier = KNeighborsClassifier(n_neighbors=k, weights = 'uniform', metric='euclidean')\n",
        "    knnClassifier.fit(X_train_sub, y_train_sub)\n",
        "\n",
        "    score = knnClassifier.score(X_test_sub, y_test_sub)\n",
        "    print(f\"When k={k} score is {score*100}\")\n",
        "    \n",
        "# KNN produces a test accuracy of 35.6% for k value 16..."
      ],
      "execution_count": 5,
      "outputs": [
        {
          "output_type": "stream",
          "text": [
            "When k=1 score is 32.45\n",
            "When k=2 score is 31.2\n",
            "When k=3 score is 31.3\n",
            "When k=4 score is 32.75\n",
            "When k=5 score is 32.9\n",
            "When k=6 score is 33.95\n",
            "When k=7 score is 34.2\n",
            "When k=8 score is 34.949999999999996\n",
            "When k=9 score is 34.599999999999994\n",
            "When k=10 score is 34.599999999999994\n",
            "When k=11 score is 35.449999999999996\n",
            "When k=12 score is 35.099999999999994\n",
            "When k=13 score is 34.2\n",
            "When k=14 score is 34.9\n",
            "When k=15 score is 34.849999999999994\n",
            "When k=16 score is 35.6\n",
            "When k=17 score is 35.25\n",
            "When k=18 score is 35.15\n",
            "When k=19 score is 34.65\n",
            "When k=20 score is 34.4\n",
            "When k=21 score is 34.8\n",
            "When k=22 score is 34.300000000000004\n",
            "When k=23 score is 34.1\n",
            "When k=24 score is 34.25\n",
            "When k=25 score is 34.0\n",
            "When k=26 score is 33.5\n",
            "When k=27 score is 34.150000000000006\n",
            "When k=28 score is 33.900000000000006\n",
            "When k=29 score is 34.1\n"
          ],
          "name": "stdout"
        }
      ]
    },
    {
      "cell_type": "code",
      "metadata": {
        "id": "xL8Bgyzr_rFH",
        "colab_type": "code",
        "colab": {}
      },
      "source": [
        "knnClassifier = KNeighborsClassifier(n_neighbors=16, weights = 'uniform', metric='euclidean')\n",
        "knnClassifier.fit(X_train_sub, y_train_sub)\n",
        "\n",
        "pred=knnClassifier.predict(X_test_sub)"
      ],
      "execution_count": 0,
      "outputs": []
    },
    {
      "cell_type": "code",
      "metadata": {
        "id": "hcV05iDHAAMl",
        "colab_type": "code",
        "colab": {
          "base_uri": "https://localhost:8080/",
          "height": 34
        },
        "outputId": "f7a9e30b-a3c8-4d15-b351-31fb082e70e4"
      },
      "source": [
        "pred[0]"
      ],
      "execution_count": 7,
      "outputs": [
        {
          "output_type": "execute_result",
          "data": {
            "text/plain": [
              "6"
            ]
          },
          "metadata": {
            "tags": []
          },
          "execution_count": 7
        }
      ]
    },
    {
      "cell_type": "code",
      "metadata": {
        "id": "simJxqbwAF2G",
        "colab_type": "code",
        "colab": {
          "base_uri": "https://localhost:8080/",
          "height": 187
        },
        "outputId": "7e334a9e-5635-4499-92fc-52cce4e3ad20"
      },
      "source": [
        "from sklearn.metrics import confusion_matrix\n",
        "confusion_matrix(pred,y_test_sub)"
      ],
      "execution_count": 8,
      "outputs": [
        {
          "output_type": "execute_result",
          "data": {
            "text/plain": [
              "array([[106,  11,  15,  21,  14,  30,  40,   5,  40,  39],\n",
              "       [ 20, 116,  29,  37,  33,  38,  25,  30,  16,  22],\n",
              "       [  8,   8,  59,  13,  10,   8,  10,  25,   9,  18],\n",
              "       [  7,   7,  18,  50,  18,  19,  14,  18,  13,  11],\n",
              "       [ 17,  20,  10,   8,  96,  13,  24,  10,  18,  15],\n",
              "       [  8,   5,   6,  20,   6,  50,  10,   8,  10,   9],\n",
              "       [ 20,   9,   9,  13,  13,  22,  57,   6,  36,  20],\n",
              "       [ 10,   5,  19,   8,   5,   7,   2,  98,   3,   7],\n",
              "       [  7,   2,   8,   3,   2,  12,  11,   0,  34,  15],\n",
              "       [ 18,   2,  14,  12,   7,  12,   9,   5,  19,  46]])"
            ]
          },
          "metadata": {
            "tags": []
          },
          "execution_count": 8
        }
      ]
    },
    {
      "cell_type": "markdown",
      "metadata": {
        "id": "IVbyLELAAOYf",
        "colab_type": "text"
      },
      "source": [
        "The accuracy of the KNN model is very poor. The max accuracy is obtained (or the lowest MSE) is attained at k =16. Even then, the accuracy is close to 35.6%"
      ]
    },
    {
      "cell_type": "code",
      "metadata": {
        "id": "47B1JETjquGe",
        "colab_type": "code",
        "colab": {}
      },
      "source": [
        "## Neural Network Model\n",
        "\n",
        "# define model\n",
        "import tensorflow.keras\n",
        "from tensorflow.keras import losses\n",
        "from tensorflow.keras import optimizers\n",
        "from tensorflow.keras.models import Sequential\n",
        "from tensorflow.keras.layers import Dropout,ReLU,Dense,BatchNormalization\n"
      ],
      "execution_count": 0,
      "outputs": []
    },
    {
      "cell_type": "code",
      "metadata": {
        "id": "sMuKtQDKscQC",
        "colab_type": "code",
        "outputId": "b6f918b4-2e7e-4097-fcd0-cd3fdcfebc6e",
        "colab": {
          "base_uri": "https://localhost:8080/",
          "height": 1000
        }
      },
      "source": [
        "# create model\n",
        "\n",
        "model = Sequential()\n",
        "model.add(BatchNormalization(input_shape=(1024,)))\n",
        "model.add(Dense(256,activation='relu'))\n",
        "model.add(BatchNormalization(input_shape=(256,)))\n",
        "model.add(Dense(64,activation='relu'))\n",
        "model.add(Dropout(rate=0.2))\n",
        "num_classes = len(np.unique(y_train))\n",
        "model.add(Dense(num_classes,activation='softmax'))\n",
        "\n",
        "# Compile model\n",
        "\n",
        "adam = optimizers.Adam(lr=0.002)\n",
        "model.compile(loss=losses.sparse_categorical_crossentropy, optimizer=adam, metrics=['sparse_categorical_accuracy'])\n",
        "\n",
        "# Fit the model\n",
        "\n",
        "model.fit(X_train, y_train, batch_size=200, epochs=50,validation_data=(X_test, y_test),verbose=2)\n",
        "\n",
        "# Final evaluation of the model\n",
        "\n",
        "scores = model.evaluate(X_test, y_test, verbose=0)\n",
        "\n",
        "_, train_data_accuracy = model.evaluate(X_train, y_train)\n",
        "print('Accuracy: %.2f' % (train_data_accuracy*100))\n",
        "\n",
        "_, test_data_accuracy = model.evaluate(X_test, y_test)\n",
        "print('Accuracy: %.2f' % (test_data_accuracy*100))\n",
        "\n",
        "print(\"Error: %.2f%%\" % (100-scores[1]*100))\n"
      ],
      "execution_count": 15,
      "outputs": [
        {
          "output_type": "stream",
          "text": [
            "Train on 42000 samples, validate on 18000 samples\n",
            "Epoch 1/50\n",
            "42000/42000 - 2s - loss: 1.5525 - sparse_categorical_accuracy: 0.4878 - val_loss: 1.2427 - val_sparse_categorical_accuracy: 0.6718\n",
            "Epoch 2/50\n",
            "42000/42000 - 1s - loss: 1.0096 - sparse_categorical_accuracy: 0.6837 - val_loss: 0.8954 - val_sparse_categorical_accuracy: 0.7259\n",
            "Epoch 3/50\n",
            "42000/42000 - 1s - loss: 0.8528 - sparse_categorical_accuracy: 0.7303 - val_loss: 0.7728 - val_sparse_categorical_accuracy: 0.7603\n",
            "Epoch 4/50\n",
            "42000/42000 - 1s - loss: 0.7419 - sparse_categorical_accuracy: 0.7684 - val_loss: 0.6951 - val_sparse_categorical_accuracy: 0.7894\n",
            "Epoch 5/50\n",
            "42000/42000 - 1s - loss: 0.6942 - sparse_categorical_accuracy: 0.7836 - val_loss: 0.6537 - val_sparse_categorical_accuracy: 0.8039\n",
            "Epoch 6/50\n",
            "42000/42000 - 1s - loss: 0.6468 - sparse_categorical_accuracy: 0.7957 - val_loss: 0.6066 - val_sparse_categorical_accuracy: 0.8176\n",
            "Epoch 7/50\n",
            "42000/42000 - 1s - loss: 0.6071 - sparse_categorical_accuracy: 0.8078 - val_loss: 0.5894 - val_sparse_categorical_accuracy: 0.8227\n",
            "Epoch 8/50\n",
            "42000/42000 - 1s - loss: 0.5779 - sparse_categorical_accuracy: 0.8186 - val_loss: 0.5904 - val_sparse_categorical_accuracy: 0.8223\n",
            "Epoch 9/50\n",
            "42000/42000 - 1s - loss: 0.5512 - sparse_categorical_accuracy: 0.8249 - val_loss: 0.5945 - val_sparse_categorical_accuracy: 0.8188\n",
            "Epoch 10/50\n",
            "42000/42000 - 1s - loss: 0.5326 - sparse_categorical_accuracy: 0.8316 - val_loss: 0.5631 - val_sparse_categorical_accuracy: 0.8330\n",
            "Epoch 11/50\n",
            "42000/42000 - 1s - loss: 0.5138 - sparse_categorical_accuracy: 0.8386 - val_loss: 0.5637 - val_sparse_categorical_accuracy: 0.8326\n",
            "Epoch 12/50\n",
            "42000/42000 - 1s - loss: 0.4952 - sparse_categorical_accuracy: 0.8417 - val_loss: 0.5406 - val_sparse_categorical_accuracy: 0.8386\n",
            "Epoch 13/50\n",
            "42000/42000 - 1s - loss: 0.4813 - sparse_categorical_accuracy: 0.8471 - val_loss: 0.5359 - val_sparse_categorical_accuracy: 0.8418\n",
            "Epoch 14/50\n",
            "42000/42000 - 1s - loss: 0.4711 - sparse_categorical_accuracy: 0.8499 - val_loss: 0.5200 - val_sparse_categorical_accuracy: 0.8461\n",
            "Epoch 15/50\n",
            "42000/42000 - 1s - loss: 0.4511 - sparse_categorical_accuracy: 0.8558 - val_loss: 0.5121 - val_sparse_categorical_accuracy: 0.8478\n",
            "Epoch 16/50\n",
            "42000/42000 - 1s - loss: 0.4489 - sparse_categorical_accuracy: 0.8563 - val_loss: 0.5173 - val_sparse_categorical_accuracy: 0.8472\n",
            "Epoch 17/50\n",
            "42000/42000 - 1s - loss: 0.4427 - sparse_categorical_accuracy: 0.8589 - val_loss: 0.5031 - val_sparse_categorical_accuracy: 0.8518\n",
            "Epoch 18/50\n",
            "42000/42000 - 1s - loss: 0.4293 - sparse_categorical_accuracy: 0.8630 - val_loss: 0.5166 - val_sparse_categorical_accuracy: 0.8509\n",
            "Epoch 19/50\n",
            "42000/42000 - 1s - loss: 0.4274 - sparse_categorical_accuracy: 0.8638 - val_loss: 0.5070 - val_sparse_categorical_accuracy: 0.8502\n",
            "Epoch 20/50\n",
            "42000/42000 - 1s - loss: 0.4175 - sparse_categorical_accuracy: 0.8668 - val_loss: 0.5259 - val_sparse_categorical_accuracy: 0.8481\n",
            "Epoch 21/50\n",
            "42000/42000 - 1s - loss: 0.4125 - sparse_categorical_accuracy: 0.8671 - val_loss: 0.5293 - val_sparse_categorical_accuracy: 0.8486\n",
            "Epoch 22/50\n",
            "42000/42000 - 1s - loss: 0.3964 - sparse_categorical_accuracy: 0.8710 - val_loss: 0.5215 - val_sparse_categorical_accuracy: 0.8483\n",
            "Epoch 23/50\n",
            "42000/42000 - 1s - loss: 0.4011 - sparse_categorical_accuracy: 0.8715 - val_loss: 0.5334 - val_sparse_categorical_accuracy: 0.8466\n",
            "Epoch 24/50\n",
            "42000/42000 - 1s - loss: 0.3860 - sparse_categorical_accuracy: 0.8751 - val_loss: 0.5197 - val_sparse_categorical_accuracy: 0.8488\n",
            "Epoch 25/50\n",
            "42000/42000 - 1s - loss: 0.3840 - sparse_categorical_accuracy: 0.8765 - val_loss: 0.5078 - val_sparse_categorical_accuracy: 0.8568\n",
            "Epoch 26/50\n",
            "42000/42000 - 1s - loss: 0.3811 - sparse_categorical_accuracy: 0.8778 - val_loss: 0.5121 - val_sparse_categorical_accuracy: 0.8528\n",
            "Epoch 27/50\n",
            "42000/42000 - 1s - loss: 0.3710 - sparse_categorical_accuracy: 0.8802 - val_loss: 0.4979 - val_sparse_categorical_accuracy: 0.8583\n",
            "Epoch 28/50\n",
            "42000/42000 - 1s - loss: 0.3750 - sparse_categorical_accuracy: 0.8785 - val_loss: 0.5132 - val_sparse_categorical_accuracy: 0.8522\n",
            "Epoch 29/50\n",
            "42000/42000 - 1s - loss: 0.3637 - sparse_categorical_accuracy: 0.8819 - val_loss: 0.5204 - val_sparse_categorical_accuracy: 0.8522\n",
            "Epoch 30/50\n",
            "42000/42000 - 1s - loss: 0.3588 - sparse_categorical_accuracy: 0.8842 - val_loss: 0.5089 - val_sparse_categorical_accuracy: 0.8558\n",
            "Epoch 31/50\n",
            "42000/42000 - 1s - loss: 0.3560 - sparse_categorical_accuracy: 0.8833 - val_loss: 0.5325 - val_sparse_categorical_accuracy: 0.8491\n",
            "Epoch 32/50\n",
            "42000/42000 - 1s - loss: 0.3550 - sparse_categorical_accuracy: 0.8864 - val_loss: 0.5173 - val_sparse_categorical_accuracy: 0.8572\n",
            "Epoch 33/50\n",
            "42000/42000 - 1s - loss: 0.3483 - sparse_categorical_accuracy: 0.8853 - val_loss: 0.5117 - val_sparse_categorical_accuracy: 0.8596\n",
            "Epoch 34/50\n",
            "42000/42000 - 1s - loss: 0.3416 - sparse_categorical_accuracy: 0.8879 - val_loss: 0.5069 - val_sparse_categorical_accuracy: 0.8578\n",
            "Epoch 35/50\n",
            "42000/42000 - 1s - loss: 0.3410 - sparse_categorical_accuracy: 0.8895 - val_loss: 0.5068 - val_sparse_categorical_accuracy: 0.8601\n",
            "Epoch 36/50\n",
            "42000/42000 - 1s - loss: 0.3365 - sparse_categorical_accuracy: 0.8894 - val_loss: 0.5098 - val_sparse_categorical_accuracy: 0.8612\n",
            "Epoch 37/50\n",
            "42000/42000 - 1s - loss: 0.3333 - sparse_categorical_accuracy: 0.8910 - val_loss: 0.5070 - val_sparse_categorical_accuracy: 0.8612\n",
            "Epoch 38/50\n",
            "42000/42000 - 1s - loss: 0.3243 - sparse_categorical_accuracy: 0.8937 - val_loss: 0.5410 - val_sparse_categorical_accuracy: 0.8542\n",
            "Epoch 39/50\n",
            "42000/42000 - 1s - loss: 0.3173 - sparse_categorical_accuracy: 0.8957 - val_loss: 0.5231 - val_sparse_categorical_accuracy: 0.8568\n",
            "Epoch 40/50\n",
            "42000/42000 - 1s - loss: 0.3209 - sparse_categorical_accuracy: 0.8928 - val_loss: 0.5246 - val_sparse_categorical_accuracy: 0.8568\n",
            "Epoch 41/50\n",
            "42000/42000 - 1s - loss: 0.3147 - sparse_categorical_accuracy: 0.8979 - val_loss: 0.5234 - val_sparse_categorical_accuracy: 0.8556\n",
            "Epoch 42/50\n",
            "42000/42000 - 1s - loss: 0.3130 - sparse_categorical_accuracy: 0.8969 - val_loss: 0.5361 - val_sparse_categorical_accuracy: 0.8561\n",
            "Epoch 43/50\n",
            "42000/42000 - 1s - loss: 0.3077 - sparse_categorical_accuracy: 0.9002 - val_loss: 0.5103 - val_sparse_categorical_accuracy: 0.8644\n",
            "Epoch 44/50\n",
            "42000/42000 - 1s - loss: 0.3050 - sparse_categorical_accuracy: 0.8982 - val_loss: 0.5232 - val_sparse_categorical_accuracy: 0.8631\n",
            "Epoch 45/50\n",
            "42000/42000 - 1s - loss: 0.2942 - sparse_categorical_accuracy: 0.9021 - val_loss: 0.5391 - val_sparse_categorical_accuracy: 0.8596\n",
            "Epoch 46/50\n",
            "42000/42000 - 1s - loss: 0.2967 - sparse_categorical_accuracy: 0.9015 - val_loss: 0.5100 - val_sparse_categorical_accuracy: 0.8665\n",
            "Epoch 47/50\n",
            "42000/42000 - 1s - loss: 0.2962 - sparse_categorical_accuracy: 0.9026 - val_loss: 0.5099 - val_sparse_categorical_accuracy: 0.8628\n",
            "Epoch 48/50\n",
            "42000/42000 - 1s - loss: 0.2902 - sparse_categorical_accuracy: 0.9025 - val_loss: 0.5529 - val_sparse_categorical_accuracy: 0.8559\n",
            "Epoch 49/50\n",
            "42000/42000 - 1s - loss: 0.2902 - sparse_categorical_accuracy: 0.9036 - val_loss: 0.5446 - val_sparse_categorical_accuracy: 0.8573\n",
            "Epoch 50/50\n",
            "42000/42000 - 1s - loss: 0.2892 - sparse_categorical_accuracy: 0.9049 - val_loss: 0.5335 - val_sparse_categorical_accuracy: 0.8608\n",
            "42000/42000 [==============================] - 3s 75us/sample - loss: 0.1930 - sparse_categorical_accuracy: 0.9401\n",
            "Accuracy: 94.01\n",
            "18000/18000 [==============================] - 1s 77us/sample - loss: 0.5335 - sparse_categorical_accuracy: 0.8608\n",
            "Accuracy: 86.08\n",
            "Error: 13.92%\n"
          ],
          "name": "stdout"
        }
      ]
    },
    {
      "cell_type": "code",
      "metadata": {
        "id": "Rva77t9-sfjo",
        "colab_type": "code",
        "colab": {}
      },
      "source": [
        "nnmodelPredictions = model.predict_classes(X_train)"
      ],
      "execution_count": 0,
      "outputs": []
    },
    {
      "cell_type": "code",
      "metadata": {
        "id": "1DJY6k4wsv-_",
        "colab_type": "code",
        "outputId": "252ca7a1-a128-43cd-e506-9c250b9a2190",
        "colab": {
          "base_uri": "https://localhost:8080/",
          "height": 132
        }
      },
      "source": [
        "plt.figure(figsize=(10, 1))\n",
        "for i in range(10):\n",
        "    plt.subplot(1, 10, i+1)\n",
        "    plt.imshow(X_train_original[i], cmap=\"gray\")\n",
        "    plt.axis('off')\n",
        "plt.show()\n",
        "print('label for each of the above image: %s' % (y_train[0:10]))\n",
        "print('Model Prediction for each of the above image: %s' % nnmodelPredictions[0:10])"
      ],
      "execution_count": 17,
      "outputs": [
        {
          "output_type": "display_data",
          "data": {
            "image/png": "[encoded data removed]",
            "text/plain": [
              "<Figure size 720x72 with 10 Axes>"
            ]
          },
          "metadata": {
            "tags": []
          }
        },
        {
          "output_type": "stream",
          "text": [
            "label for each of the above image: [2 6 7 4 4 0 3 0 7 3]\n",
            "Model Prediction for each of the above image: [2 6 7 4 4 0 3 1 7 3]\n"
          ],
          "name": "stdout"
        }
      ]
    },
    {
      "cell_type": "code",
      "metadata": {
        "id": "-EsfnOOTszUv",
        "colab_type": "code",
        "colab": {}
      },
      "source": [
        "model.save('./svhn_ocr_model.hd5')"
      ],
      "execution_count": 0,
      "outputs": []
    },
    {
      "cell_type": "markdown",
      "metadata": {
        "id": "guJMRQHcDLv4",
        "colab_type": "text"
      },
      "source": [
        "Deep Learning model is able to work with huge amount of data, particularly, multi-dimensional data and was able to perform better than that of traditional KNN model..\n",
        "- for the traditional KNN algorithm we got accuracy of 35.6% only for the k value 16..\n",
        "- but using ANN we got 94.01% for training set and 86.08% for test set which is a very good score for the model\n",
        "- used batch normalization for training the neural network\n",
        "- the error rate of the model was less than 14%..\n",
        "\n",
        "Thus all the project objectives were covered and the required goals achieved.\n"
      ]
    }
  ]
}